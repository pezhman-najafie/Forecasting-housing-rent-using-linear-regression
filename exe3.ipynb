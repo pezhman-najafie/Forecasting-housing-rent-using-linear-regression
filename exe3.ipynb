{
 "cells": [
  {
   "cell_type": "code",
   "execution_count": 1,
   "metadata": {
    "collapsed": true
   },
   "outputs": [
    {
     "name": "stdout",
     "output_type": "stream",
     "text": [
      "Weight values for columns X0, X1, X2, X3, X4:\n",
      "[ 0.27627499 -0.4244546   0.95985425 -1.40467046  1.87646682]\n",
      "MAE: 0.9856695439815155\n",
      "MSE: 2.6342030521721416\n",
      "RMSE: 1.6230228132013862\n",
      "MARE (Percent): 1.348797310083015\n"
     ]
    }
   ],
   "source": [
    "import numpy as np\n",
    "\n",
    "# Read data from the text file\n",
    "with open(r'C:\\Users\\pezhm\\Desktop\\1\\E.txt', 'r') as file:\n",
    "    data = file.readline().strip().split()\n",
    "\n",
    "# Convert data to a list of floats\n",
    "data = list(map(float, data))\n",
    "\n",
    "# Initialize the matrix X and vector y\n",
    "num_rows = len(data) - 4\n",
    "num_cols = 5\n",
    "X = [[0 for _ in range(num_cols)] for _ in range(num_rows)]\n",
    "y = []\n",
    "\n",
    "# Fill the matrix and vector\n",
    "for i in range(num_rows):\n",
    "    X[i][0] = 1  # Set the first element of each row to 1 (intercept term)\n",
    "    for j in range(4):\n",
    "        X[i][j + 1] = data[i + j]\n",
    "    y.append(data[i + 4])\n",
    "\n",
    "# Convert X and y to numpy arrays\n",
    "X = np.array(X)\n",
    "y = np.array(y)\n",
    "\n",
    "# Calculate weight values using the normal equation\n",
    "X_transpose = np.transpose(X)\n",
    "X_transpose_X = np.dot(X_transpose, X)\n",
    "X_transpose_X_inv = np.linalg.pinv(X_transpose_X)\n",
    "X_transpose_y = np.dot(X_transpose, y)\n",
    "w = np.dot(X_transpose_X_inv, X_transpose_y)\n",
    "\n",
    "print(\"Weight values for columns X0, X1, X2, X3, X4:\")\n",
    "print(w)\n",
    "\n",
    "# Predicting values\n",
    "y_pred = np.dot(X, w)\n",
    "\n",
    "# Calculate error metrics manually\n",
    "\n",
    "# Mean Absolute Error (MAE)\n",
    "mae = np.mean(np.abs(y - y_pred))\n",
    "\n",
    "# Mean Squared Error (MSE)\n",
    "mse = np.mean((y - y_pred) ** 2)\n",
    "\n",
    "# Root Mean Squared Error (RMSE)\n",
    "rmse = np.sqrt(mse)\n",
    "\n",
    "# Mean Absolute Relative Error (MARE)\n",
    "mare = np.mean(np.abs((y - y_pred) / y)) * 100\n",
    "\n",
    "print(\"MAE:\", mae)\n",
    "print(\"MSE:\", mse)\n",
    "print(\"RMSE:\", rmse)\n",
    "print(\"MARE (Percent):\", mare)\n",
    "\n",
    "# Uncomment below to print the matrix and vector\n",
    "# print(\"Matrix:\")\n",
    "# for row in X:\n",
    "#     print(row)\n",
    "#\n",
    "# print(\"Vector:\")\n",
    "# for value in y:\n",
    "#     print(value)"
   ]
  },
  {
   "cell_type": "code",
   "execution_count": null,
   "outputs": [],
   "source": [],
   "metadata": {
    "collapsed": false,
    "pycharm": {
     "name": "#%%\n"
    }
   }
  }
 ],
 "metadata": {
  "kernelspec": {
   "display_name": "Python 3",
   "language": "python",
   "name": "python3"
  },
  "language_info": {
   "codemirror_mode": {
    "name": "ipython",
    "version": 2
   },
   "file_extension": ".py",
   "mimetype": "text/x-python",
   "name": "python",
   "nbconvert_exporter": "python",
   "pygments_lexer": "ipython2",
   "version": "2.7.6"
  }
 },
 "nbformat": 4,
 "nbformat_minor": 0
}